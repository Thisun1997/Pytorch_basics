{
  "nbformat": 4,
  "nbformat_minor": 0,
  "metadata": {
    "colab": {
      "name": "LogisticRegression.ipynb",
      "provenance": [],
      "collapsed_sections": [],
      "authorship_tag": "ABX9TyMA7pI8qyTLuhbUcKR1dTUG",
      "include_colab_link": true
    },
    "kernelspec": {
      "name": "python3",
      "display_name": "Python 3"
    },
    "language_info": {
      "name": "python"
    },
    "widgets": {
      "application/vnd.jupyter.widget-state+json": {
        "729c9db84671494e9130d564becfe8ae": {
          "model_module": "@jupyter-widgets/controls",
          "model_name": "HBoxModel",
          "state": {
            "_view_name": "HBoxView",
            "_dom_classes": [],
            "_model_name": "HBoxModel",
            "_view_module": "@jupyter-widgets/controls",
            "_model_module_version": "1.5.0",
            "_view_count": null,
            "_view_module_version": "1.5.0",
            "box_style": "",
            "layout": "IPY_MODEL_cb089a73238141cb8aaa782a7d216842",
            "_model_module": "@jupyter-widgets/controls",
            "children": [
              "IPY_MODEL_d935edc7d40845c7bd80cc4c375dd577",
              "IPY_MODEL_90b67ca8cc39463aa1294b9c3d2101b7"
            ]
          }
        },
        "cb089a73238141cb8aaa782a7d216842": {
          "model_module": "@jupyter-widgets/base",
          "model_name": "LayoutModel",
          "state": {
            "_view_name": "LayoutView",
            "grid_template_rows": null,
            "right": null,
            "justify_content": null,
            "_view_module": "@jupyter-widgets/base",
            "overflow": null,
            "_model_module_version": "1.2.0",
            "_view_count": null,
            "flex_flow": null,
            "width": null,
            "min_width": null,
            "border": null,
            "align_items": null,
            "bottom": null,
            "_model_module": "@jupyter-widgets/base",
            "top": null,
            "grid_column": null,
            "overflow_y": null,
            "overflow_x": null,
            "grid_auto_flow": null,
            "grid_area": null,
            "grid_template_columns": null,
            "flex": null,
            "_model_name": "LayoutModel",
            "justify_items": null,
            "grid_row": null,
            "max_height": null,
            "align_content": null,
            "visibility": null,
            "align_self": null,
            "height": null,
            "min_height": null,
            "padding": null,
            "grid_auto_rows": null,
            "grid_gap": null,
            "max_width": null,
            "order": null,
            "_view_module_version": "1.2.0",
            "grid_template_areas": null,
            "object_position": null,
            "object_fit": null,
            "grid_auto_columns": null,
            "margin": null,
            "display": null,
            "left": null
          }
        },
        "d935edc7d40845c7bd80cc4c375dd577": {
          "model_module": "@jupyter-widgets/controls",
          "model_name": "FloatProgressModel",
          "state": {
            "_view_name": "ProgressView",
            "style": "IPY_MODEL_e6a5fb739ec24ff6bb0d33b945599296",
            "_dom_classes": [],
            "description": "",
            "_model_name": "FloatProgressModel",
            "bar_style": "success",
            "max": 9912422,
            "_view_module": "@jupyter-widgets/controls",
            "_model_module_version": "1.5.0",
            "value": 9912422,
            "_view_count": null,
            "_view_module_version": "1.5.0",
            "orientation": "horizontal",
            "min": 0,
            "description_tooltip": null,
            "_model_module": "@jupyter-widgets/controls",
            "layout": "IPY_MODEL_5d649d767c9f46a4b9dc9602e1aa6236"
          }
        },
        "90b67ca8cc39463aa1294b9c3d2101b7": {
          "model_module": "@jupyter-widgets/controls",
          "model_name": "HTMLModel",
          "state": {
            "_view_name": "HTMLView",
            "style": "IPY_MODEL_06ef65067af6476b88ac436286a22fc3",
            "_dom_classes": [],
            "description": "",
            "_model_name": "HTMLModel",
            "placeholder": "​",
            "_view_module": "@jupyter-widgets/controls",
            "_model_module_version": "1.5.0",
            "value": " 9913344/? [00:08&lt;00:00, 1114005.84it/s]",
            "_view_count": null,
            "_view_module_version": "1.5.0",
            "description_tooltip": null,
            "_model_module": "@jupyter-widgets/controls",
            "layout": "IPY_MODEL_3cff7a097f3b46e9b6d6f54a0e90cf7d"
          }
        },
        "e6a5fb739ec24ff6bb0d33b945599296": {
          "model_module": "@jupyter-widgets/controls",
          "model_name": "ProgressStyleModel",
          "state": {
            "_view_name": "StyleView",
            "_model_name": "ProgressStyleModel",
            "description_width": "initial",
            "_view_module": "@jupyter-widgets/base",
            "_model_module_version": "1.5.0",
            "_view_count": null,
            "_view_module_version": "1.2.0",
            "bar_color": null,
            "_model_module": "@jupyter-widgets/controls"
          }
        },
        "5d649d767c9f46a4b9dc9602e1aa6236": {
          "model_module": "@jupyter-widgets/base",
          "model_name": "LayoutModel",
          "state": {
            "_view_name": "LayoutView",
            "grid_template_rows": null,
            "right": null,
            "justify_content": null,
            "_view_module": "@jupyter-widgets/base",
            "overflow": null,
            "_model_module_version": "1.2.0",
            "_view_count": null,
            "flex_flow": null,
            "width": null,
            "min_width": null,
            "border": null,
            "align_items": null,
            "bottom": null,
            "_model_module": "@jupyter-widgets/base",
            "top": null,
            "grid_column": null,
            "overflow_y": null,
            "overflow_x": null,
            "grid_auto_flow": null,
            "grid_area": null,
            "grid_template_columns": null,
            "flex": null,
            "_model_name": "LayoutModel",
            "justify_items": null,
            "grid_row": null,
            "max_height": null,
            "align_content": null,
            "visibility": null,
            "align_self": null,
            "height": null,
            "min_height": null,
            "padding": null,
            "grid_auto_rows": null,
            "grid_gap": null,
            "max_width": null,
            "order": null,
            "_view_module_version": "1.2.0",
            "grid_template_areas": null,
            "object_position": null,
            "object_fit": null,
            "grid_auto_columns": null,
            "margin": null,
            "display": null,
            "left": null
          }
        },
        "06ef65067af6476b88ac436286a22fc3": {
          "model_module": "@jupyter-widgets/controls",
          "model_name": "DescriptionStyleModel",
          "state": {
            "_view_name": "StyleView",
            "_model_name": "DescriptionStyleModel",
            "description_width": "",
            "_view_module": "@jupyter-widgets/base",
            "_model_module_version": "1.5.0",
            "_view_count": null,
            "_view_module_version": "1.2.0",
            "_model_module": "@jupyter-widgets/controls"
          }
        },
        "3cff7a097f3b46e9b6d6f54a0e90cf7d": {
          "model_module": "@jupyter-widgets/base",
          "model_name": "LayoutModel",
          "state": {
            "_view_name": "LayoutView",
            "grid_template_rows": null,
            "right": null,
            "justify_content": null,
            "_view_module": "@jupyter-widgets/base",
            "overflow": null,
            "_model_module_version": "1.2.0",
            "_view_count": null,
            "flex_flow": null,
            "width": null,
            "min_width": null,
            "border": null,
            "align_items": null,
            "bottom": null,
            "_model_module": "@jupyter-widgets/base",
            "top": null,
            "grid_column": null,
            "overflow_y": null,
            "overflow_x": null,
            "grid_auto_flow": null,
            "grid_area": null,
            "grid_template_columns": null,
            "flex": null,
            "_model_name": "LayoutModel",
            "justify_items": null,
            "grid_row": null,
            "max_height": null,
            "align_content": null,
            "visibility": null,
            "align_self": null,
            "height": null,
            "min_height": null,
            "padding": null,
            "grid_auto_rows": null,
            "grid_gap": null,
            "max_width": null,
            "order": null,
            "_view_module_version": "1.2.0",
            "grid_template_areas": null,
            "object_position": null,
            "object_fit": null,
            "grid_auto_columns": null,
            "margin": null,
            "display": null,
            "left": null
          }
        },
        "23709dc9bffa4cafbe394f6945e304d4": {
          "model_module": "@jupyter-widgets/controls",
          "model_name": "HBoxModel",
          "state": {
            "_view_name": "HBoxView",
            "_dom_classes": [],
            "_model_name": "HBoxModel",
            "_view_module": "@jupyter-widgets/controls",
            "_model_module_version": "1.5.0",
            "_view_count": null,
            "_view_module_version": "1.5.0",
            "box_style": "",
            "layout": "IPY_MODEL_48fdb01849c04f48b7c0393d44e50ce8",
            "_model_module": "@jupyter-widgets/controls",
            "children": [
              "IPY_MODEL_9762f8a450b8454d830f499c7e6ee445",
              "IPY_MODEL_bbe3b520547243f084fcfc630e57fcc5"
            ]
          }
        },
        "48fdb01849c04f48b7c0393d44e50ce8": {
          "model_module": "@jupyter-widgets/base",
          "model_name": "LayoutModel",
          "state": {
            "_view_name": "LayoutView",
            "grid_template_rows": null,
            "right": null,
            "justify_content": null,
            "_view_module": "@jupyter-widgets/base",
            "overflow": null,
            "_model_module_version": "1.2.0",
            "_view_count": null,
            "flex_flow": null,
            "width": null,
            "min_width": null,
            "border": null,
            "align_items": null,
            "bottom": null,
            "_model_module": "@jupyter-widgets/base",
            "top": null,
            "grid_column": null,
            "overflow_y": null,
            "overflow_x": null,
            "grid_auto_flow": null,
            "grid_area": null,
            "grid_template_columns": null,
            "flex": null,
            "_model_name": "LayoutModel",
            "justify_items": null,
            "grid_row": null,
            "max_height": null,
            "align_content": null,
            "visibility": null,
            "align_self": null,
            "height": null,
            "min_height": null,
            "padding": null,
            "grid_auto_rows": null,
            "grid_gap": null,
            "max_width": null,
            "order": null,
            "_view_module_version": "1.2.0",
            "grid_template_areas": null,
            "object_position": null,
            "object_fit": null,
            "grid_auto_columns": null,
            "margin": null,
            "display": null,
            "left": null
          }
        },
        "9762f8a450b8454d830f499c7e6ee445": {
          "model_module": "@jupyter-widgets/controls",
          "model_name": "FloatProgressModel",
          "state": {
            "_view_name": "ProgressView",
            "style": "IPY_MODEL_bdf9dbac913a4a6b82cdd611b62bb65b",
            "_dom_classes": [],
            "description": "",
            "_model_name": "FloatProgressModel",
            "bar_style": "success",
            "max": 28881,
            "_view_module": "@jupyter-widgets/controls",
            "_model_module_version": "1.5.0",
            "value": 28881,
            "_view_count": null,
            "_view_module_version": "1.5.0",
            "orientation": "horizontal",
            "min": 0,
            "description_tooltip": null,
            "_model_module": "@jupyter-widgets/controls",
            "layout": "IPY_MODEL_090a1a6282f34120a19d07173224b142"
          }
        },
        "bbe3b520547243f084fcfc630e57fcc5": {
          "model_module": "@jupyter-widgets/controls",
          "model_name": "HTMLModel",
          "state": {
            "_view_name": "HTMLView",
            "style": "IPY_MODEL_492662553ad641eda7e064b31d2e681c",
            "_dom_classes": [],
            "description": "",
            "_model_name": "HTMLModel",
            "placeholder": "​",
            "_view_module": "@jupyter-widgets/controls",
            "_model_module_version": "1.5.0",
            "value": " 29696/? [00:00&lt;00:00, 42639.43it/s]",
            "_view_count": null,
            "_view_module_version": "1.5.0",
            "description_tooltip": null,
            "_model_module": "@jupyter-widgets/controls",
            "layout": "IPY_MODEL_907fe0d8b70644679bb4240d22d01867"
          }
        },
        "bdf9dbac913a4a6b82cdd611b62bb65b": {
          "model_module": "@jupyter-widgets/controls",
          "model_name": "ProgressStyleModel",
          "state": {
            "_view_name": "StyleView",
            "_model_name": "ProgressStyleModel",
            "description_width": "initial",
            "_view_module": "@jupyter-widgets/base",
            "_model_module_version": "1.5.0",
            "_view_count": null,
            "_view_module_version": "1.2.0",
            "bar_color": null,
            "_model_module": "@jupyter-widgets/controls"
          }
        },
        "090a1a6282f34120a19d07173224b142": {
          "model_module": "@jupyter-widgets/base",
          "model_name": "LayoutModel",
          "state": {
            "_view_name": "LayoutView",
            "grid_template_rows": null,
            "right": null,
            "justify_content": null,
            "_view_module": "@jupyter-widgets/base",
            "overflow": null,
            "_model_module_version": "1.2.0",
            "_view_count": null,
            "flex_flow": null,
            "width": null,
            "min_width": null,
            "border": null,
            "align_items": null,
            "bottom": null,
            "_model_module": "@jupyter-widgets/base",
            "top": null,
            "grid_column": null,
            "overflow_y": null,
            "overflow_x": null,
            "grid_auto_flow": null,
            "grid_area": null,
            "grid_template_columns": null,
            "flex": null,
            "_model_name": "LayoutModel",
            "justify_items": null,
            "grid_row": null,
            "max_height": null,
            "align_content": null,
            "visibility": null,
            "align_self": null,
            "height": null,
            "min_height": null,
            "padding": null,
            "grid_auto_rows": null,
            "grid_gap": null,
            "max_width": null,
            "order": null,
            "_view_module_version": "1.2.0",
            "grid_template_areas": null,
            "object_position": null,
            "object_fit": null,
            "grid_auto_columns": null,
            "margin": null,
            "display": null,
            "left": null
          }
        },
        "492662553ad641eda7e064b31d2e681c": {
          "model_module": "@jupyter-widgets/controls",
          "model_name": "DescriptionStyleModel",
          "state": {
            "_view_name": "StyleView",
            "_model_name": "DescriptionStyleModel",
            "description_width": "",
            "_view_module": "@jupyter-widgets/base",
            "_model_module_version": "1.5.0",
            "_view_count": null,
            "_view_module_version": "1.2.0",
            "_model_module": "@jupyter-widgets/controls"
          }
        },
        "907fe0d8b70644679bb4240d22d01867": {
          "model_module": "@jupyter-widgets/base",
          "model_name": "LayoutModel",
          "state": {
            "_view_name": "LayoutView",
            "grid_template_rows": null,
            "right": null,
            "justify_content": null,
            "_view_module": "@jupyter-widgets/base",
            "overflow": null,
            "_model_module_version": "1.2.0",
            "_view_count": null,
            "flex_flow": null,
            "width": null,
            "min_width": null,
            "border": null,
            "align_items": null,
            "bottom": null,
            "_model_module": "@jupyter-widgets/base",
            "top": null,
            "grid_column": null,
            "overflow_y": null,
            "overflow_x": null,
            "grid_auto_flow": null,
            "grid_area": null,
            "grid_template_columns": null,
            "flex": null,
            "_model_name": "LayoutModel",
            "justify_items": null,
            "grid_row": null,
            "max_height": null,
            "align_content": null,
            "visibility": null,
            "align_self": null,
            "height": null,
            "min_height": null,
            "padding": null,
            "grid_auto_rows": null,
            "grid_gap": null,
            "max_width": null,
            "order": null,
            "_view_module_version": "1.2.0",
            "grid_template_areas": null,
            "object_position": null,
            "object_fit": null,
            "grid_auto_columns": null,
            "margin": null,
            "display": null,
            "left": null
          }
        },
        "35a9e1919aac41ddbbd31ac1b77ba70e": {
          "model_module": "@jupyter-widgets/controls",
          "model_name": "HBoxModel",
          "state": {
            "_view_name": "HBoxView",
            "_dom_classes": [],
            "_model_name": "HBoxModel",
            "_view_module": "@jupyter-widgets/controls",
            "_model_module_version": "1.5.0",
            "_view_count": null,
            "_view_module_version": "1.5.0",
            "box_style": "",
            "layout": "IPY_MODEL_125a0367d3ed46599a858463cbd75390",
            "_model_module": "@jupyter-widgets/controls",
            "children": [
              "IPY_MODEL_8826095355e1483aae9b6f44abf2f9d7",
              "IPY_MODEL_60c962329f9846849a52170a94e058d4"
            ]
          }
        },
        "125a0367d3ed46599a858463cbd75390": {
          "model_module": "@jupyter-widgets/base",
          "model_name": "LayoutModel",
          "state": {
            "_view_name": "LayoutView",
            "grid_template_rows": null,
            "right": null,
            "justify_content": null,
            "_view_module": "@jupyter-widgets/base",
            "overflow": null,
            "_model_module_version": "1.2.0",
            "_view_count": null,
            "flex_flow": null,
            "width": null,
            "min_width": null,
            "border": null,
            "align_items": null,
            "bottom": null,
            "_model_module": "@jupyter-widgets/base",
            "top": null,
            "grid_column": null,
            "overflow_y": null,
            "overflow_x": null,
            "grid_auto_flow": null,
            "grid_area": null,
            "grid_template_columns": null,
            "flex": null,
            "_model_name": "LayoutModel",
            "justify_items": null,
            "grid_row": null,
            "max_height": null,
            "align_content": null,
            "visibility": null,
            "align_self": null,
            "height": null,
            "min_height": null,
            "padding": null,
            "grid_auto_rows": null,
            "grid_gap": null,
            "max_width": null,
            "order": null,
            "_view_module_version": "1.2.0",
            "grid_template_areas": null,
            "object_position": null,
            "object_fit": null,
            "grid_auto_columns": null,
            "margin": null,
            "display": null,
            "left": null
          }
        },
        "8826095355e1483aae9b6f44abf2f9d7": {
          "model_module": "@jupyter-widgets/controls",
          "model_name": "FloatProgressModel",
          "state": {
            "_view_name": "ProgressView",
            "style": "IPY_MODEL_37bf7e85b22f48b38f07202bbb73b1ff",
            "_dom_classes": [],
            "description": "",
            "_model_name": "FloatProgressModel",
            "bar_style": "success",
            "max": 1648877,
            "_view_module": "@jupyter-widgets/controls",
            "_model_module_version": "1.5.0",
            "value": 1648877,
            "_view_count": null,
            "_view_module_version": "1.5.0",
            "orientation": "horizontal",
            "min": 0,
            "description_tooltip": null,
            "_model_module": "@jupyter-widgets/controls",
            "layout": "IPY_MODEL_e691607fedb541d5afaa5b9891fc03da"
          }
        },
        "60c962329f9846849a52170a94e058d4": {
          "model_module": "@jupyter-widgets/controls",
          "model_name": "HTMLModel",
          "state": {
            "_view_name": "HTMLView",
            "style": "IPY_MODEL_9ecedb11de30428fbe2466ebd2776a38",
            "_dom_classes": [],
            "description": "",
            "_model_name": "HTMLModel",
            "placeholder": "​",
            "_view_module": "@jupyter-widgets/controls",
            "_model_module_version": "1.5.0",
            "value": " 1649664/? [00:00&lt;00:00, 4925708.73it/s]",
            "_view_count": null,
            "_view_module_version": "1.5.0",
            "description_tooltip": null,
            "_model_module": "@jupyter-widgets/controls",
            "layout": "IPY_MODEL_b70ab6f0121e4db28dd843f589ecd988"
          }
        },
        "37bf7e85b22f48b38f07202bbb73b1ff": {
          "model_module": "@jupyter-widgets/controls",
          "model_name": "ProgressStyleModel",
          "state": {
            "_view_name": "StyleView",
            "_model_name": "ProgressStyleModel",
            "description_width": "initial",
            "_view_module": "@jupyter-widgets/base",
            "_model_module_version": "1.5.0",
            "_view_count": null,
            "_view_module_version": "1.2.0",
            "bar_color": null,
            "_model_module": "@jupyter-widgets/controls"
          }
        },
        "e691607fedb541d5afaa5b9891fc03da": {
          "model_module": "@jupyter-widgets/base",
          "model_name": "LayoutModel",
          "state": {
            "_view_name": "LayoutView",
            "grid_template_rows": null,
            "right": null,
            "justify_content": null,
            "_view_module": "@jupyter-widgets/base",
            "overflow": null,
            "_model_module_version": "1.2.0",
            "_view_count": null,
            "flex_flow": null,
            "width": null,
            "min_width": null,
            "border": null,
            "align_items": null,
            "bottom": null,
            "_model_module": "@jupyter-widgets/base",
            "top": null,
            "grid_column": null,
            "overflow_y": null,
            "overflow_x": null,
            "grid_auto_flow": null,
            "grid_area": null,
            "grid_template_columns": null,
            "flex": null,
            "_model_name": "LayoutModel",
            "justify_items": null,
            "grid_row": null,
            "max_height": null,
            "align_content": null,
            "visibility": null,
            "align_self": null,
            "height": null,
            "min_height": null,
            "padding": null,
            "grid_auto_rows": null,
            "grid_gap": null,
            "max_width": null,
            "order": null,
            "_view_module_version": "1.2.0",
            "grid_template_areas": null,
            "object_position": null,
            "object_fit": null,
            "grid_auto_columns": null,
            "margin": null,
            "display": null,
            "left": null
          }
        },
        "9ecedb11de30428fbe2466ebd2776a38": {
          "model_module": "@jupyter-widgets/controls",
          "model_name": "DescriptionStyleModel",
          "state": {
            "_view_name": "StyleView",
            "_model_name": "DescriptionStyleModel",
            "description_width": "",
            "_view_module": "@jupyter-widgets/base",
            "_model_module_version": "1.5.0",
            "_view_count": null,
            "_view_module_version": "1.2.0",
            "_model_module": "@jupyter-widgets/controls"
          }
        },
        "b70ab6f0121e4db28dd843f589ecd988": {
          "model_module": "@jupyter-widgets/base",
          "model_name": "LayoutModel",
          "state": {
            "_view_name": "LayoutView",
            "grid_template_rows": null,
            "right": null,
            "justify_content": null,
            "_view_module": "@jupyter-widgets/base",
            "overflow": null,
            "_model_module_version": "1.2.0",
            "_view_count": null,
            "flex_flow": null,
            "width": null,
            "min_width": null,
            "border": null,
            "align_items": null,
            "bottom": null,
            "_model_module": "@jupyter-widgets/base",
            "top": null,
            "grid_column": null,
            "overflow_y": null,
            "overflow_x": null,
            "grid_auto_flow": null,
            "grid_area": null,
            "grid_template_columns": null,
            "flex": null,
            "_model_name": "LayoutModel",
            "justify_items": null,
            "grid_row": null,
            "max_height": null,
            "align_content": null,
            "visibility": null,
            "align_self": null,
            "height": null,
            "min_height": null,
            "padding": null,
            "grid_auto_rows": null,
            "grid_gap": null,
            "max_width": null,
            "order": null,
            "_view_module_version": "1.2.0",
            "grid_template_areas": null,
            "object_position": null,
            "object_fit": null,
            "grid_auto_columns": null,
            "margin": null,
            "display": null,
            "left": null
          }
        },
        "805d316b725f44c6b612592cd2394deb": {
          "model_module": "@jupyter-widgets/controls",
          "model_name": "HBoxModel",
          "state": {
            "_view_name": "HBoxView",
            "_dom_classes": [],
            "_model_name": "HBoxModel",
            "_view_module": "@jupyter-widgets/controls",
            "_model_module_version": "1.5.0",
            "_view_count": null,
            "_view_module_version": "1.5.0",
            "box_style": "",
            "layout": "IPY_MODEL_ee26845cc6d64c66a01be90a70d91466",
            "_model_module": "@jupyter-widgets/controls",
            "children": [
              "IPY_MODEL_d5e5bd61909045e28e8f1015804b3039",
              "IPY_MODEL_158f1c00a07a468eb0f2849163235ab1"
            ]
          }
        },
        "ee26845cc6d64c66a01be90a70d91466": {
          "model_module": "@jupyter-widgets/base",
          "model_name": "LayoutModel",
          "state": {
            "_view_name": "LayoutView",
            "grid_template_rows": null,
            "right": null,
            "justify_content": null,
            "_view_module": "@jupyter-widgets/base",
            "overflow": null,
            "_model_module_version": "1.2.0",
            "_view_count": null,
            "flex_flow": null,
            "width": null,
            "min_width": null,
            "border": null,
            "align_items": null,
            "bottom": null,
            "_model_module": "@jupyter-widgets/base",
            "top": null,
            "grid_column": null,
            "overflow_y": null,
            "overflow_x": null,
            "grid_auto_flow": null,
            "grid_area": null,
            "grid_template_columns": null,
            "flex": null,
            "_model_name": "LayoutModel",
            "justify_items": null,
            "grid_row": null,
            "max_height": null,
            "align_content": null,
            "visibility": null,
            "align_self": null,
            "height": null,
            "min_height": null,
            "padding": null,
            "grid_auto_rows": null,
            "grid_gap": null,
            "max_width": null,
            "order": null,
            "_view_module_version": "1.2.0",
            "grid_template_areas": null,
            "object_position": null,
            "object_fit": null,
            "grid_auto_columns": null,
            "margin": null,
            "display": null,
            "left": null
          }
        },
        "d5e5bd61909045e28e8f1015804b3039": {
          "model_module": "@jupyter-widgets/controls",
          "model_name": "FloatProgressModel",
          "state": {
            "_view_name": "ProgressView",
            "style": "IPY_MODEL_c46be710af76494fb1905f3f5e086d50",
            "_dom_classes": [],
            "description": "",
            "_model_name": "FloatProgressModel",
            "bar_style": "success",
            "max": 4542,
            "_view_module": "@jupyter-widgets/controls",
            "_model_module_version": "1.5.0",
            "value": 4542,
            "_view_count": null,
            "_view_module_version": "1.5.0",
            "orientation": "horizontal",
            "min": 0,
            "description_tooltip": null,
            "_model_module": "@jupyter-widgets/controls",
            "layout": "IPY_MODEL_cf39297951f049cebb58cb281b169068"
          }
        },
        "158f1c00a07a468eb0f2849163235ab1": {
          "model_module": "@jupyter-widgets/controls",
          "model_name": "HTMLModel",
          "state": {
            "_view_name": "HTMLView",
            "style": "IPY_MODEL_fba0bb858cef4935ae34a3716a62af56",
            "_dom_classes": [],
            "description": "",
            "_model_name": "HTMLModel",
            "placeholder": "​",
            "_view_module": "@jupyter-widgets/controls",
            "_model_module_version": "1.5.0",
            "value": " 5120/? [00:07&lt;00:00, 705.41it/s]",
            "_view_count": null,
            "_view_module_version": "1.5.0",
            "description_tooltip": null,
            "_model_module": "@jupyter-widgets/controls",
            "layout": "IPY_MODEL_776a5d480aad4d53ba7104bae99ac491"
          }
        },
        "c46be710af76494fb1905f3f5e086d50": {
          "model_module": "@jupyter-widgets/controls",
          "model_name": "ProgressStyleModel",
          "state": {
            "_view_name": "StyleView",
            "_model_name": "ProgressStyleModel",
            "description_width": "initial",
            "_view_module": "@jupyter-widgets/base",
            "_model_module_version": "1.5.0",
            "_view_count": null,
            "_view_module_version": "1.2.0",
            "bar_color": null,
            "_model_module": "@jupyter-widgets/controls"
          }
        },
        "cf39297951f049cebb58cb281b169068": {
          "model_module": "@jupyter-widgets/base",
          "model_name": "LayoutModel",
          "state": {
            "_view_name": "LayoutView",
            "grid_template_rows": null,
            "right": null,
            "justify_content": null,
            "_view_module": "@jupyter-widgets/base",
            "overflow": null,
            "_model_module_version": "1.2.0",
            "_view_count": null,
            "flex_flow": null,
            "width": null,
            "min_width": null,
            "border": null,
            "align_items": null,
            "bottom": null,
            "_model_module": "@jupyter-widgets/base",
            "top": null,
            "grid_column": null,
            "overflow_y": null,
            "overflow_x": null,
            "grid_auto_flow": null,
            "grid_area": null,
            "grid_template_columns": null,
            "flex": null,
            "_model_name": "LayoutModel",
            "justify_items": null,
            "grid_row": null,
            "max_height": null,
            "align_content": null,
            "visibility": null,
            "align_self": null,
            "height": null,
            "min_height": null,
            "padding": null,
            "grid_auto_rows": null,
            "grid_gap": null,
            "max_width": null,
            "order": null,
            "_view_module_version": "1.2.0",
            "grid_template_areas": null,
            "object_position": null,
            "object_fit": null,
            "grid_auto_columns": null,
            "margin": null,
            "display": null,
            "left": null
          }
        },
        "fba0bb858cef4935ae34a3716a62af56": {
          "model_module": "@jupyter-widgets/controls",
          "model_name": "DescriptionStyleModel",
          "state": {
            "_view_name": "StyleView",
            "_model_name": "DescriptionStyleModel",
            "description_width": "",
            "_view_module": "@jupyter-widgets/base",
            "_model_module_version": "1.5.0",
            "_view_count": null,
            "_view_module_version": "1.2.0",
            "_model_module": "@jupyter-widgets/controls"
          }
        },
        "776a5d480aad4d53ba7104bae99ac491": {
          "model_module": "@jupyter-widgets/base",
          "model_name": "LayoutModel",
          "state": {
            "_view_name": "LayoutView",
            "grid_template_rows": null,
            "right": null,
            "justify_content": null,
            "_view_module": "@jupyter-widgets/base",
            "overflow": null,
            "_model_module_version": "1.2.0",
            "_view_count": null,
            "flex_flow": null,
            "width": null,
            "min_width": null,
            "border": null,
            "align_items": null,
            "bottom": null,
            "_model_module": "@jupyter-widgets/base",
            "top": null,
            "grid_column": null,
            "overflow_y": null,
            "overflow_x": null,
            "grid_auto_flow": null,
            "grid_area": null,
            "grid_template_columns": null,
            "flex": null,
            "_model_name": "LayoutModel",
            "justify_items": null,
            "grid_row": null,
            "max_height": null,
            "align_content": null,
            "visibility": null,
            "align_self": null,
            "height": null,
            "min_height": null,
            "padding": null,
            "grid_auto_rows": null,
            "grid_gap": null,
            "max_width": null,
            "order": null,
            "_view_module_version": "1.2.0",
            "grid_template_areas": null,
            "object_position": null,
            "object_fit": null,
            "grid_auto_columns": null,
            "margin": null,
            "display": null,
            "left": null
          }
        }
      }
    }
  },
  "cells": [
    {
      "cell_type": "markdown",
      "metadata": {
        "id": "view-in-github",
        "colab_type": "text"
      },
      "source": [
        "<a href=\"https://colab.research.google.com/github/Thisun1997/Pytorch_basics/blob/main/LogisticRegression.ipynb\" target=\"_parent\"><img src=\"https://colab.research.google.com/assets/colab-badge.svg\" alt=\"Open In Colab\"/></a>"
      ]
    },
    {
      "cell_type": "code",
      "metadata": {
        "id": "GAfDsjrNpCFE"
      },
      "source": [
        "import torch\n",
        "import torchvision   #utilities to work with image data and download popular datasets\n",
        "from torchvision.datasets import MNIST"
      ],
      "execution_count": null,
      "outputs": []
    },
    {
      "cell_type": "code",
      "metadata": {
        "id": "pGGQrmYopf8n",
        "colab": {
          "base_uri": "https://localhost:8080/",
          "height": 854,
          "referenced_widgets": [
            "729c9db84671494e9130d564becfe8ae",
            "cb089a73238141cb8aaa782a7d216842",
            "d935edc7d40845c7bd80cc4c375dd577",
            "90b67ca8cc39463aa1294b9c3d2101b7",
            "e6a5fb739ec24ff6bb0d33b945599296",
            "5d649d767c9f46a4b9dc9602e1aa6236",
            "06ef65067af6476b88ac436286a22fc3",
            "3cff7a097f3b46e9b6d6f54a0e90cf7d",
            "23709dc9bffa4cafbe394f6945e304d4",
            "48fdb01849c04f48b7c0393d44e50ce8",
            "9762f8a450b8454d830f499c7e6ee445",
            "bbe3b520547243f084fcfc630e57fcc5",
            "bdf9dbac913a4a6b82cdd611b62bb65b",
            "090a1a6282f34120a19d07173224b142",
            "492662553ad641eda7e064b31d2e681c",
            "907fe0d8b70644679bb4240d22d01867",
            "35a9e1919aac41ddbbd31ac1b77ba70e",
            "125a0367d3ed46599a858463cbd75390",
            "8826095355e1483aae9b6f44abf2f9d7",
            "60c962329f9846849a52170a94e058d4",
            "37bf7e85b22f48b38f07202bbb73b1ff",
            "e691607fedb541d5afaa5b9891fc03da",
            "9ecedb11de30428fbe2466ebd2776a38",
            "b70ab6f0121e4db28dd843f589ecd988",
            "805d316b725f44c6b612592cd2394deb",
            "ee26845cc6d64c66a01be90a70d91466",
            "d5e5bd61909045e28e8f1015804b3039",
            "158f1c00a07a468eb0f2849163235ab1",
            "c46be710af76494fb1905f3f5e086d50",
            "cf39297951f049cebb58cb281b169068",
            "fba0bb858cef4935ae34a3716a62af56",
            "776a5d480aad4d53ba7104bae99ac491"
          ]
        },
        "outputId": "ced6ea9b-99e1-449c-9890-5d7786b08896"
      },
      "source": [
        "dataset = MNIST(root=\"data/\",download=True) #for training"
      ],
      "execution_count": null,
      "outputs": [
        {
          "output_type": "stream",
          "text": [
            "Downloading http://yann.lecun.com/exdb/mnist/train-images-idx3-ubyte.gz\n",
            "Failed to download (trying next):\n",
            "HTTP Error 503: Service Unavailable\n",
            "\n",
            "Downloading https://ossci-datasets.s3.amazonaws.com/mnist/train-images-idx3-ubyte.gz\n",
            "Downloading https://ossci-datasets.s3.amazonaws.com/mnist/train-images-idx3-ubyte.gz to data/MNIST/raw/train-images-idx3-ubyte.gz\n"
          ],
          "name": "stdout"
        },
        {
          "output_type": "display_data",
          "data": {
            "application/vnd.jupyter.widget-view+json": {
              "model_id": "729c9db84671494e9130d564becfe8ae",
              "version_minor": 0,
              "version_major": 2
            },
            "text/plain": [
              "HBox(children=(FloatProgress(value=0.0, max=9912422.0), HTML(value='')))"
            ]
          },
          "metadata": {
            "tags": []
          }
        },
        {
          "output_type": "stream",
          "text": [
            "\n",
            "Extracting data/MNIST/raw/train-images-idx3-ubyte.gz to data/MNIST/raw\n",
            "\n",
            "Downloading http://yann.lecun.com/exdb/mnist/train-labels-idx1-ubyte.gz\n",
            "Failed to download (trying next):\n",
            "HTTP Error 503: Service Unavailable\n",
            "\n",
            "Downloading https://ossci-datasets.s3.amazonaws.com/mnist/train-labels-idx1-ubyte.gz\n",
            "Downloading https://ossci-datasets.s3.amazonaws.com/mnist/train-labels-idx1-ubyte.gz to data/MNIST/raw/train-labels-idx1-ubyte.gz\n"
          ],
          "name": "stdout"
        },
        {
          "output_type": "display_data",
          "data": {
            "application/vnd.jupyter.widget-view+json": {
              "model_id": "23709dc9bffa4cafbe394f6945e304d4",
              "version_minor": 0,
              "version_major": 2
            },
            "text/plain": [
              "HBox(children=(FloatProgress(value=0.0, max=28881.0), HTML(value='')))"
            ]
          },
          "metadata": {
            "tags": []
          }
        },
        {
          "output_type": "stream",
          "text": [
            "\n",
            "Extracting data/MNIST/raw/train-labels-idx1-ubyte.gz to data/MNIST/raw\n",
            "\n",
            "Downloading http://yann.lecun.com/exdb/mnist/t10k-images-idx3-ubyte.gz\n",
            "Downloading http://yann.lecun.com/exdb/mnist/t10k-images-idx3-ubyte.gz to data/MNIST/raw/t10k-images-idx3-ubyte.gz\n",
            "Failed to download (trying next):\n",
            "HTTP Error 503: Service Unavailable\n",
            "\n",
            "Downloading https://ossci-datasets.s3.amazonaws.com/mnist/t10k-images-idx3-ubyte.gz\n",
            "Downloading https://ossci-datasets.s3.amazonaws.com/mnist/t10k-images-idx3-ubyte.gz to data/MNIST/raw/t10k-images-idx3-ubyte.gz\n"
          ],
          "name": "stdout"
        },
        {
          "output_type": "display_data",
          "data": {
            "application/vnd.jupyter.widget-view+json": {
              "model_id": "35a9e1919aac41ddbbd31ac1b77ba70e",
              "version_minor": 0,
              "version_major": 2
            },
            "text/plain": [
              "HBox(children=(FloatProgress(value=0.0, max=1648877.0), HTML(value='')))"
            ]
          },
          "metadata": {
            "tags": []
          }
        },
        {
          "output_type": "stream",
          "text": [
            "\n",
            "Extracting data/MNIST/raw/t10k-images-idx3-ubyte.gz to data/MNIST/raw\n",
            "\n",
            "Downloading http://yann.lecun.com/exdb/mnist/t10k-labels-idx1-ubyte.gz\n",
            "Failed to download (trying next):\n",
            "HTTP Error 503: Service Unavailable\n",
            "\n",
            "Downloading https://ossci-datasets.s3.amazonaws.com/mnist/t10k-labels-idx1-ubyte.gz\n",
            "Downloading https://ossci-datasets.s3.amazonaws.com/mnist/t10k-labels-idx1-ubyte.gz to data/MNIST/raw/t10k-labels-idx1-ubyte.gz\n"
          ],
          "name": "stdout"
        },
        {
          "output_type": "display_data",
          "data": {
            "application/vnd.jupyter.widget-view+json": {
              "model_id": "805d316b725f44c6b612592cd2394deb",
              "version_minor": 0,
              "version_major": 2
            },
            "text/plain": [
              "HBox(children=(FloatProgress(value=0.0, max=4542.0), HTML(value='')))"
            ]
          },
          "metadata": {
            "tags": []
          }
        },
        {
          "output_type": "stream",
          "text": [
            "\n",
            "Extracting data/MNIST/raw/t10k-labels-idx1-ubyte.gz to data/MNIST/raw\n",
            "\n",
            "Processing...\n",
            "Done!\n"
          ],
          "name": "stdout"
        },
        {
          "output_type": "stream",
          "text": [
            "/usr/local/lib/python3.7/dist-packages/torchvision/datasets/mnist.py:502: UserWarning: The given NumPy array is not writeable, and PyTorch does not support non-writeable tensors. This means you can write to the underlying (supposedly non-writeable) NumPy array using the tensor. You may want to copy the array to protect its data or make it writeable before converting it to a tensor. This type of warning will be suppressed for the rest of this program. (Triggered internally at  /pytorch/torch/csrc/utils/tensor_numpy.cpp:143.)\n",
            "  return torch.from_numpy(parsed.astype(m[2], copy=False)).view(*s)\n"
          ],
          "name": "stderr"
        }
      ]
    },
    {
      "cell_type": "code",
      "metadata": {
        "colab": {
          "base_uri": "https://localhost:8080/"
        },
        "id": "1PqRpTDzppMp",
        "outputId": "5390a925-bc33-493c-e8d0-b98f2ee5d4fd"
      },
      "source": [
        "len(dataset)"
      ],
      "execution_count": null,
      "outputs": [
        {
          "output_type": "execute_result",
          "data": {
            "text/plain": [
              "60000"
            ]
          },
          "metadata": {
            "tags": []
          },
          "execution_count": 3
        }
      ]
    },
    {
      "cell_type": "code",
      "metadata": {
        "id": "1vuRc7Vjp2az"
      },
      "source": [
        "test_dataset =  MNIST(root=\"data/\",train=False)"
      ],
      "execution_count": null,
      "outputs": []
    },
    {
      "cell_type": "code",
      "metadata": {
        "colab": {
          "base_uri": "https://localhost:8080/"
        },
        "id": "Tnw2_VTZqC-N",
        "outputId": "0415bca6-e11f-4ee4-d28a-34b938e21553"
      },
      "source": [
        "len(test_dataset)"
      ],
      "execution_count": null,
      "outputs": [
        {
          "output_type": "execute_result",
          "data": {
            "text/plain": [
              "10000"
            ]
          },
          "metadata": {
            "tags": []
          },
          "execution_count": 5
        }
      ]
    },
    {
      "cell_type": "code",
      "metadata": {
        "colab": {
          "base_uri": "https://localhost:8080/"
        },
        "id": "CGiem6smqFs1",
        "outputId": "84451ad5-3f9b-40f8-d6ea-02b88e1d191a"
      },
      "source": [
        "#sample element\n",
        "dataset[0]   #pair containing 28x28 px image which is a part of python imaging library and a lable"
      ],
      "execution_count": null,
      "outputs": [
        {
          "output_type": "execute_result",
          "data": {
            "text/plain": [
              "(<PIL.Image.Image image mode=L size=28x28 at 0x7F21BBE20C90>, 5)"
            ]
          },
          "metadata": {
            "tags": []
          },
          "execution_count": 6
        }
      ]
    },
    {
      "cell_type": "code",
      "metadata": {
        "id": "hMCmXQeXqLNn"
      },
      "source": [
        "#plotting the image\n",
        "import matplotlib.pyplot as plt\n",
        "\n",
        "#sketch the image on the notebook iteslf\n",
        "%matplotlib inline "
      ],
      "execution_count": null,
      "outputs": []
    },
    {
      "cell_type": "code",
      "metadata": {
        "colab": {
          "base_uri": "https://localhost:8080/",
          "height": 282
        },
        "id": "4YRN0MRKr0fn",
        "outputId": "1929ee36-ca4c-423a-db8c-9d187f9bfa65"
      },
      "source": [
        "image,label = dataset[0]\n",
        "plt.imshow(image)\n",
        "print(\"Label\",label)"
      ],
      "execution_count": null,
      "outputs": [
        {
          "output_type": "stream",
          "text": [
            "Label 5\n"
          ],
          "name": "stdout"
        },
        {
          "output_type": "display_data",
          "data": {
            "image/png": "[encoded data removed]",
            "text/plain": [
              "<Figure size 432x288 with 1 Axes>"
            ]
          },
          "metadata": {
            "tags": [],
            "needs_background": "light"
          }
        }
      ]
    },
    {
      "cell_type": "code",
      "metadata": {
        "id": "iNJgVItMsE8z"
      },
      "source": [
        "import torchvision.transforms as transforms #to convert images to tensors"
      ],
      "execution_count": null,
      "outputs": []
    },
    {
      "cell_type": "code",
      "metadata": {
        "id": "m8a3lk8ysX7w"
      },
      "source": [
        "data_transform = transforms.Compose([transforms.Grayscale(num_output_channels=1),\n",
        "                                     transforms.ToTensor()])\n",
        "train_dataset = MNIST(root=\"data/\", train=True,transform=data_transform)\n",
        "# train_dataset = MNIST(root=\"data/\",train=True,transform=transforms.ToTensor())"
      ],
      "execution_count": null,
      "outputs": []
    },
    {
      "cell_type": "code",
      "metadata": {
        "colab": {
          "base_uri": "https://localhost:8080/"
        },
        "id": "lWf9NNRMsq1S",
        "outputId": "55a0f24d-184f-4411-caba-90dc7184c66f"
      },
      "source": [
        "img_tensor,label = train_dataset[1]\n",
        "print(img_tensor.shape,label)   #1-color scale. 28x28-pixels"
      ],
      "execution_count": null,
      "outputs": [
        {
          "output_type": "stream",
          "text": [
            "torch.Size([1, 28, 28]) 0\n"
          ],
          "name": "stdout"
        }
      ]
    },
    {
      "cell_type": "code",
      "metadata": {
        "colab": {
          "base_uri": "https://localhost:8080/"
        },
        "id": "GkvaiEv0tOwi",
        "outputId": "fea0fa6b-9278-4441-89f4-7eb1dac15bb7"
      },
      "source": [
        "print(img_tensor[:,5:10,5:10])\n",
        "print(torch.max(img_tensor),torch.min(img_tensor)) #1-darkets,0-lightest"
      ],
      "execution_count": null,
      "outputs": [
        {
          "output_type": "stream",
          "text": [
            "tensor([[[0., 0., 0., 0., 0.],\n",
            "         [0., 0., 0., 0., 0.],\n",
            "         [0., 0., 0., 0., 0.],\n",
            "         [0., 0., 0., 0., 0.],\n",
            "         [0., 0., 0., 0., 0.]]])\n",
            "tensor(1.) tensor(0.)\n"
          ],
          "name": "stdout"
        }
      ]
    },
    {
      "cell_type": "code",
      "metadata": {
        "colab": {
          "base_uri": "https://localhost:8080/",
          "height": 282
        },
        "id": "APmtQApsszgn",
        "outputId": "56bf58e7-c2d2-4dcb-e612-645a930e4737"
      },
      "source": [
        "plt.imshow(img_tensor[0])"
      ],
      "execution_count": null,
      "outputs": [
        {
          "output_type": "execute_result",
          "data": {
            "text/plain": [
              "<matplotlib.image.AxesImage at 0x7f21bb549410>"
            ]
          },
          "metadata": {
            "tags": []
          },
          "execution_count": 79
        },
        {
          "output_type": "display_data",
          "data": {
            "image/png": "[encoded data removed]",
            "text/plain": [
              "<Figure size 432x288 with 1 Axes>"
            ]
          },
          "metadata": {
            "tags": [],
            "needs_background": "light"
          }
        }
      ]
    },
    {
      "cell_type": "code",
      "metadata": {
        "id": "Ec9Oh2MwtK1_"
      },
      "source": [
        "import numpy as np\n",
        "\n",
        "def split_indices(n,fraction):\n",
        "  n_val = int(n*fraction)\n",
        "  idx = np.random.permutation(n)\n",
        "  return idx[n_val:],idx[:n_val]\n",
        "\n",
        "train_ids,val_ids = split_indices(len(train_dataset),0.2)"
      ],
      "execution_count": null,
      "outputs": []
    },
    {
      "cell_type": "code",
      "metadata": {
        "colab": {
          "base_uri": "https://localhost:8080/"
        },
        "id": "p_06LW1J8Aos",
        "outputId": "d8ebe8ef-169a-4076-a771-44a8ed01d508"
      },
      "source": [
        "print(len(train_ids),len(val_ids))"
      ],
      "execution_count": null,
      "outputs": [
        {
          "output_type": "stream",
          "text": [
            "48000 12000\n"
          ],
          "name": "stdout"
        }
      ]
    },
    {
      "cell_type": "code",
      "metadata": {
        "id": "9R-oxzUF8VUx"
      },
      "source": [
        "from torch.utils.data.sampler import SubsetRandomSampler\n",
        "from torch.utils.data.dataloader import DataLoader"
      ],
      "execution_count": null,
      "outputs": []
    },
    {
      "cell_type": "code",
      "metadata": {
        "id": "8OSq_51_8pnP"
      },
      "source": [
        "batch_size = 100\n",
        "\n",
        "#create training set\n",
        "train_sampler = SubsetRandomSampler(train_ids)\n",
        "train_loader = DataLoader(train_dataset,batch_size,train_sampler)\n",
        "\n",
        "#create validation set\n",
        "val_sampler = SubsetRandomSampler(val_ids)\n",
        "val_loader = DataLoader(train_dataset,batch_size,val_sampler)"
      ],
      "execution_count": null,
      "outputs": []
    },
    {
      "cell_type": "code",
      "metadata": {
        "colab": {
          "base_uri": "https://localhost:8080/"
        },
        "id": "5Zv56sV5-Q1t",
        "outputId": "7f5d895f-608e-4577-9185-035544a67801"
      },
      "source": [
        "print(model.weight.shape)\n",
        "print(model.bias.shape)"
      ],
      "execution_count": null,
      "outputs": [
        {
          "output_type": "stream",
          "text": [
            "torch.Size([10, 784])\n",
            "torch.Size([10])\n"
          ],
          "name": "stdout"
        }
      ]
    },
    {
      "cell_type": "code",
      "metadata": {
        "id": "eR3e3wPq-cae"
      },
      "source": [
        "import torch.nn as nn\n",
        "\n",
        "input_size = 28*28\n",
        "num_classes = 10\n",
        "\n",
        "#logistic regression model\n",
        "class MnistModel(nn.Module):\n",
        "    def __init__(self):\n",
        "        super().__init__()\n",
        "        self.linear = nn.Linear(input_size, num_classes)\n",
        "        \n",
        "    def forward(self, xb):\n",
        "        xb = xb.reshape(-1, 784)\n",
        "        out = self.linear(xb)\n",
        "        return out\n",
        "    \n",
        "model = MnistModel()"
      ],
      "execution_count": null,
      "outputs": []
    },
    {
      "cell_type": "code",
      "metadata": {
        "colab": {
          "base_uri": "https://localhost:8080/"
        },
        "id": "J_neM2LSd-xU",
        "outputId": "dd028734-3056-4e7a-a6ca-e278b3801ce5"
      },
      "source": [
        "print(model.linear.weight.shape, model.linear.bias.shape)"
      ],
      "execution_count": null,
      "outputs": [
        {
          "output_type": "stream",
          "text": [
            "torch.Size([10, 784]) torch.Size([10])\n"
          ],
          "name": "stdout"
        }
      ]
    },
    {
      "cell_type": "code",
      "metadata": {
        "id": "-pogYd4ZfoYo"
      },
      "source": [
        "#get the prediction for 1st batch\n",
        "for x,y in train_loader:\n",
        "  outputs = model(x)\n",
        "  break\n",
        "\n",
        "#convert output to probabilities using softmax\n",
        "import torch.nn.functional as F\n",
        "probs = F.softmax(outputs,dim=1)\n",
        "max_prob,preds = torch.max(probs,dim=1)"
      ],
      "execution_count": null,
      "outputs": []
    },
    {
      "cell_type": "code",
      "metadata": {
        "colab": {
          "base_uri": "https://localhost:8080/"
        },
        "id": "m1LbdYtwecKy",
        "outputId": "c1e055bb-dfee-465f-d92d-08767ff7a880"
      },
      "source": [
        "print(preds)\n"
      ],
      "execution_count": null,
      "outputs": [
        {
          "output_type": "stream",
          "text": [
            "tensor([1, 1, 5, 5, 5, 1, 5, 4, 5, 7, 5, 0, 1, 4, 7, 6, 4, 1, 6, 5, 5, 5, 8, 1,\n",
            "        1, 5, 1, 0, 1, 7, 1, 1, 5, 3, 1, 5, 4, 7, 1, 6, 3, 3, 5, 6, 4, 1, 5, 4,\n",
            "        0, 4, 1, 0, 1, 1, 1, 3, 3, 5, 1, 5, 5, 5, 4, 3, 5, 1, 5, 0, 1, 1, 5, 5,\n",
            "        5, 4, 3, 3, 1, 4, 6, 4, 3, 5, 1, 1, 1, 5, 9, 5, 1, 1, 5, 1, 5, 1, 5, 5,\n",
            "        5, 5, 5, 3])\n"
          ],
          "name": "stdout"
        }
      ]
    },
    {
      "cell_type": "code",
      "metadata": {
        "colab": {
          "base_uri": "https://localhost:8080/"
        },
        "id": "kl3G9CY2gmJ3",
        "outputId": "b70b65c6-e26a-4135-b917-924900b19b13"
      },
      "source": [
        "print(y)"
      ],
      "execution_count": null,
      "outputs": [
        {
          "output_type": "stream",
          "text": [
            "tensor([7, 2, 1, 4, 5, 4, 4, 4, 3, 9, 5, 2, 3, 6, 1, 2, 4, 7, 8, 6, 0, 0, 5, 4,\n",
            "        1, 0, 3, 5, 1, 8, 4, 4, 3, 9, 2, 8, 9, 9, 8, 8, 2, 7, 6, 9, 2, 1, 8, 7,\n",
            "        7, 1, 2, 5, 6, 4, 4, 7, 6, 1, 4, 3, 0, 5, 2, 5, 3, 0, 6, 9, 1, 7, 1, 9,\n",
            "        9, 7, 2, 7, 0, 2, 8, 4, 3, 3, 1, 8, 7, 6, 3, 6, 2, 1, 4, 4, 9, 3, 6, 6,\n",
            "        0, 1, 2, 8])\n"
          ],
          "name": "stdout"
        }
      ]
    },
    {
      "cell_type": "markdown",
      "metadata": {
        "id": "vUz1uUhyhAl4"
      },
      "source": [
        "**CROSS ENTROPY** as the loss function\n",
        "</br>\n",
        "![VDRDl1D.png](data:image/png;base64,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)\n"
      ]
    },
    {
      "cell_type": "code",
      "metadata": {
        "id": "RaJtLNNAgp6b"
      },
      "source": [
        "loss_fn = F.cross_entropy"
      ],
      "execution_count": null,
      "outputs": []
    },
    {
      "cell_type": "code",
      "metadata": {
        "colab": {
          "base_uri": "https://localhost:8080/"
        },
        "id": "dRErr1kjiHZY",
        "outputId": "dd211e56-4e52-4557-ac76-34073cec3402"
      },
      "source": [
        "loss = loss_fn(outputs,y)  #direct output from model is the input\n",
        "print(loss)"
      ],
      "execution_count": null,
      "outputs": [
        {
          "output_type": "stream",
          "text": [
            "tensor(2.3168, grad_fn=<NllLossBackward>)\n"
          ],
          "name": "stdout"
        }
      ]
    },
    {
      "cell_type": "markdown",
      "metadata": {
        "id": "RX0yFxy_iaxQ"
      },
      "source": [
        "We know that cross-entropy is the negative logarithm of the predicted probability of the correct label averaged over all training samples. Therefore, one way to interpret the resulting number e.g. `2.23` is look at `e^-2.23` which is around `0.1` as the predicted probability of the correct label, on average. The lower the loss, The better the model."
      ]
    },
    {
      "cell_type": "code",
      "metadata": {
        "id": "-IlGYguLiTPl"
      },
      "source": [
        "lr = 0.001\n",
        "optimizer = torch.optim.SGD(model.parameters(),lr)"
      ],
      "execution_count": null,
      "outputs": []
    },
    {
      "cell_type": "code",
      "metadata": {
        "id": "_XTi-GsUjkIB"
      },
      "source": [
        "def loss_batch(model,loss_fn,x,y,opt=None,metric=None):\n",
        "  preds = model(x)\n",
        "  loss = loss_fn(preds,y)\n",
        "\n",
        "  if opt is not None:\n",
        "    loss.backward()\n",
        "    opt.step()\n",
        "    opt.zero_grad()\n",
        "  \n",
        "  metric_result = None\n",
        "  if metric is not None:\n",
        "    metric_result = metric(preds,y)\n",
        "  \n",
        "  return loss.item(),len(x),metric_result"
      ],
      "execution_count": null,
      "outputs": []
    },
    {
      "cell_type": "code",
      "metadata": {
        "id": "b70_c5F_lQk_"
      },
      "source": [
        "def evaluate(model,loss_fn,valid_dl,metric=None):\n",
        "  results = [loss_batch(model,loss_fn,x,y,optimizer,metric=metric) for x,y in valid_dl]\n",
        "  losses,nums,metrics = zip(*results)\n",
        "  total = np.sum(nums)\n",
        "\n",
        "  avg_loss = np.sum(np.multiply(losses,nums))/total\n",
        "  avg_metric = None\n",
        "  if metric is not None:\n",
        "    avg_metric = np.sum(np.multiply(metrics,nums))/total\n",
        "  return avg_loss,total,avg_metric"
      ],
      "execution_count": null,
      "outputs": []
    },
    {
      "cell_type": "code",
      "metadata": {
        "id": "USSHgGgvnMY5"
      },
      "source": [
        "def accuracy(outputs,label):\n",
        "  _,preds = torch.max(outputs,dim=1)\n",
        "  return torch.sum(preds == label).item()/len(preds)"
      ],
      "execution_count": null,
      "outputs": []
    },
    {
      "cell_type": "code",
      "metadata": {
        "id": "eCwIXz4boLJS"
      },
      "source": [
        "val_loss,total,val_acc = evaluate(model,loss_fn,val_loader,metric=accuracy)"
      ],
      "execution_count": null,
      "outputs": []
    },
    {
      "cell_type": "code",
      "metadata": {
        "colab": {
          "base_uri": "https://localhost:8080/"
        },
        "id": "5EBY2cpeo_w1",
        "outputId": "19648757-5f38-44bd-87b4-51e7c7a99b8f"
      },
      "source": [
        "print(val_loss,total,val_acc)"
      ],
      "execution_count": null,
      "outputs": [
        {
          "output_type": "stream",
          "text": [
            "2.015551137129466 60000 0.5262666666666667\n"
          ],
          "name": "stdout"
        }
      ]
    },
    {
      "cell_type": "code",
      "metadata": {
        "id": "1i9be_jRpOnJ"
      },
      "source": [
        "def fit(epochs,model,loss_fn,opt,train_dl,valid_dl,metric=None):\n",
        "  for epoch in range(epochs):\n",
        "    #train\n",
        "    for x,y in train_dl:\n",
        "      loss,_,_ = loss_batch(model,loss_fn,x,y,opt)\n",
        "\n",
        "    #validation\n",
        "    val_loss,total,val_metric = evaluate(model,loss_fn,valid_dl,metric)\n",
        "\n",
        "    #print progress\n",
        "    if metric is None:\n",
        "      print(\"epoch [{}/{}], Loss: {:.4f}\".format(epoch+1,epochs,val_loss))\n",
        "    else:\n",
        "      print(\"epoch [{}/{}], Loss: {:.4f}, {}: {:.4f}\".format(epoch+1,epochs,val_loss,metric.__name__,val_metric))\n"
      ],
      "execution_count": null,
      "outputs": []
    },
    {
      "cell_type": "code",
      "metadata": {
        "id": "ksuE7am4rrWK"
      },
      "source": [
        "model = MnistModel()\n",
        "optimizer = torch.optim.SGD(model.parameters(),lr) "
      ],
      "execution_count": null,
      "outputs": []
    },
    {
      "cell_type": "code",
      "metadata": {
        "colab": {
          "base_uri": "https://localhost:8080/"
        },
        "id": "L4v8EgVnsb0d",
        "outputId": "1e8037b5-49a4-47aa-a51c-53d5098ebbaf"
      },
      "source": [
        "fit(5,model,loss_fn,optimizer,train_loader,val_loader,metric=accuracy)"
      ],
      "execution_count": null,
      "outputs": [
        {
          "output_type": "stream",
          "text": [
            "epoch [1/5], Loss: 1.6221, accuracy: 0.7408\n",
            "epoch [2/5], Loss: 1.1772, accuracy: 0.8022\n",
            "epoch [3/5], Loss: 0.9627, accuracy: 0.8233\n",
            "epoch [4/5], Loss: 0.8397, accuracy: 0.8339\n",
            "epoch [5/5], Loss: 0.7598, accuracy: 0.8415\n"
          ],
          "name": "stdout"
        }
      ]
    },
    {
      "cell_type": "code",
      "metadata": {
        "id": "8xME9-N4si9i"
      },
      "source": [
        "test_dataset = MNIST(root=\"data/\",train=False,transform=transforms.ToTensor())"
      ],
      "execution_count": null,
      "outputs": []
    },
    {
      "cell_type": "code",
      "metadata": {
        "id": "dxfGpVTPukxS"
      },
      "source": [
        "def predict_image(img, model):\n",
        "    xt = img.unsqueeze(0)  #make 1x28x28 to 1x1x28x28 tensor\n",
        "    yt = model(xt)\n",
        "    _, preds = torch.max(yt, dim=1)\n",
        "    return preds[0].item()"
      ],
      "execution_count": null,
      "outputs": []
    },
    {
      "cell_type": "code",
      "metadata": {
        "colab": {
          "base_uri": "https://localhost:8080/",
          "height": 298
        },
        "id": "fRHNKmxguGMe",
        "outputId": "26814c93-7a66-4855-bc02-468b0d4f3dc8"
      },
      "source": [
        "img,label = test_dataset[1000]\n",
        "pred = predict_image(img,model)\n",
        "\n",
        "print(\"label: {} prediction: {}\".format(label,pred))\n",
        "plt.imshow(img[0])\n"
      ],
      "execution_count": null,
      "outputs": [
        {
          "output_type": "stream",
          "text": [
            "label: 9 prediction: 7\n"
          ],
          "name": "stdout"
        },
        {
          "output_type": "execute_result",
          "data": {
            "text/plain": [
              "<matplotlib.image.AxesImage at 0x7fe4653fa550>"
            ]
          },
          "metadata": {
            "tags": []
          },
          "execution_count": 89
        },
        {
          "output_type": "display_data",
          "data": {
            "image/png": "[encoded data removed]",
            "text/plain": [
              "<Figure size 432x288 with 1 Axes>"
            ]
          },
          "metadata": {
            "tags": [],
            "needs_background": "light"
          }
        }
      ]
    },
    {
      "cell_type": "code",
      "metadata": {
        "colab": {
          "base_uri": "https://localhost:8080/"
        },
        "id": "G-X39NUIu5Jw",
        "outputId": "5452f501-b29b-4e4a-b00b-1a2fb7acf62c"
      },
      "source": [
        "test_loader = DataLoader(test_dataset, batch_size=256)\n",
        "loss,total,acc = evaluate(model,loss_fn,test_loader,accuracy)\n",
        "print(\"Loss: {:.4f} Accuracy: {:.4f}\".format(loss,acc))"
      ],
      "execution_count": null,
      "outputs": [
        {
          "output_type": "stream",
          "text": [
            "Loss: 0.7147 Accuracy: 0.8544\n"
          ],
          "name": "stdout"
        }
      ]
    },
    {
      "cell_type": "markdown",
      "metadata": {
        "id": "WWeDd60qwn5f"
      },
      "source": [
        "save the model"
      ]
    },
    {
      "cell_type": "code",
      "metadata": {
        "id": "ZBT75_7mwmL-"
      },
      "source": [
        "torch.save(model.state_dict(), 'mnist-logistic.pth') #.state_dict returns an ordered dictionary with weights and biases"
      ],
      "execution_count": null,
      "outputs": []
    },
    {
      "cell_type": "code",
      "metadata": {
        "colab": {
          "base_uri": "https://localhost:8080/"
        },
        "id": "nLlE2vAQxO6s",
        "outputId": "28d238c2-e205-4d24-f369-2f7ba00327cd"
      },
      "source": [
        "model.state_dict()"
      ],
      "execution_count": null,
      "outputs": [
        {
          "output_type": "execute_result",
          "data": {
            "text/plain": [
              "OrderedDict([('linear.weight',\n",
              "              tensor([[-0.0325,  0.0089, -0.0147,  ..., -0.0295, -0.0183,  0.0191],\n",
              "                      [-0.0280, -0.0111, -0.0233,  ...,  0.0165,  0.0110, -0.0110],\n",
              "                      [ 0.0086,  0.0032,  0.0281,  ...,  0.0153, -0.0247, -0.0104],\n",
              "                      ...,\n",
              "                      [ 0.0299,  0.0237,  0.0329,  ..., -0.0357, -0.0354,  0.0136],\n",
              "                      [-0.0091, -0.0090,  0.0141,  ...,  0.0224,  0.0035, -0.0138],\n",
              "                      [-0.0289,  0.0212, -0.0153,  ...,  0.0162, -0.0125, -0.0256]])),\n",
              "             ('linear.bias',\n",
              "              tensor([-0.0278,  0.0868,  0.0070, -0.0216,  0.0409,  0.0225, -0.0374,  0.0164,\n",
              "                      -0.0434, -0.0480]))])"
            ]
          },
          "metadata": {
            "tags": []
          },
          "execution_count": 96
        }
      ]
    },
    {
      "cell_type": "code",
      "metadata": {
        "colab": {
          "base_uri": "https://localhost:8080/"
        },
        "id": "65IohzSMwvD1",
        "outputId": "3c39ec10-274d-42cb-de46-a3e4a66b3268"
      },
      "source": [
        "model2 = MnistModel()\n",
        "model2.load_state_dict(torch.load('mnist-logistic.pth'))\n",
        "model2.state_dict()"
      ],
      "execution_count": null,
      "outputs": [
        {
          "output_type": "execute_result",
          "data": {
            "text/plain": [
              "OrderedDict([('linear.weight',\n",
              "              tensor([[-0.0325,  0.0089, -0.0147,  ..., -0.0295, -0.0183,  0.0191],\n",
              "                      [-0.0280, -0.0111, -0.0233,  ...,  0.0165,  0.0110, -0.0110],\n",
              "                      [ 0.0086,  0.0032,  0.0281,  ...,  0.0153, -0.0247, -0.0104],\n",
              "                      ...,\n",
              "                      [ 0.0299,  0.0237,  0.0329,  ..., -0.0357, -0.0354,  0.0136],\n",
              "                      [-0.0091, -0.0090,  0.0141,  ...,  0.0224,  0.0035, -0.0138],\n",
              "                      [-0.0289,  0.0212, -0.0153,  ...,  0.0162, -0.0125, -0.0256]])),\n",
              "             ('linear.bias',\n",
              "              tensor([-0.0278,  0.0868,  0.0070, -0.0216,  0.0409,  0.0225, -0.0374,  0.0164,\n",
              "                      -0.0434, -0.0480]))])"
            ]
          },
          "metadata": {
            "tags": []
          },
          "execution_count": 97
        }
      ]
    },
    {
      "cell_type": "code",
      "metadata": {
        "id": "0ZRLCxjDxVBU"
      },
      "source": [
        ""
      ],
      "execution_count": null,
      "outputs": []
    }
  ]
}