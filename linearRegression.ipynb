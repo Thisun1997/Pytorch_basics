{
  "nbformat": 4,
  "nbformat_minor": 0,
  "metadata": {
    "colab": {
      "name": "linearRegression.ipynb",
      "provenance": [],
      "collapsed_sections": [],
      "authorship_tag": "ABX9TyOL60vOj1QJB8VlLjBRAdKb",
      "include_colab_link": true
    },
    "kernelspec": {
      "name": "python3",
      "display_name": "Python 3"
    },
    "language_info": {
      "name": "python"
    }
  },
  "cells": [
    {
      "cell_type": "markdown",
      "metadata": {
        "id": "view-in-github",
        "colab_type": "text"
      },
      "source": [
        "<a href=\"https://colab.research.google.com/github/Thisun1997/Pytorch_basics/blob/main/linearRegression.ipynb\" target=\"_parent\"><img src=\"https://colab.research.google.com/assets/colab-badge.svg\" alt=\"Open In Colab\"/></a>"
      ]
    },
    {
      "cell_type": "markdown",
      "metadata": {
        "id": "Zum17F-YSAQz"
      },
      "source": [
        "Linear regression from scratch"
      ]
    },
    {
      "cell_type": "code",
      "metadata": {
        "id": "BdHhfv1bF6mL"
      },
      "source": [
        "import numpy as np\n",
        "import torch"
      ],
      "execution_count": null,
      "outputs": []
    },
    {
      "cell_type": "code",
      "metadata": {
        "id": "Ui7cPgsMGHfL"
      },
      "source": [
        "inputs = np.array([[73, 67, 43], \n",
        "                   [91, 88, 64], \n",
        "                   [87, 134, 58], \n",
        "                   [102, 43, 37], \n",
        "                   [69, 96, 70]], dtype='float32')\n",
        "targets = np.array([[56, 70], \n",
        "                    [81, 101], \n",
        "                    [119, 133], \n",
        "                    [22, 37], \n",
        "                    [103, 119]], dtype='float32')"
      ],
      "execution_count": null,
      "outputs": []
    },
    {
      "cell_type": "code",
      "metadata": {
        "id": "7D21j-n4KFlF"
      },
      "source": [
        "inputs = torch.from_numpy(inputs)\n",
        "targets = torch.from_numpy(targets)"
      ],
      "execution_count": null,
      "outputs": []
    },
    {
      "cell_type": "code",
      "metadata": {
        "colab": {
          "base_uri": "https://localhost:8080/"
        },
        "id": "_gPic_WsNyPE",
        "outputId": "e5293725-429c-4816-c105-5df53f7fd806"
      },
      "source": [
        "w = torch.zeros(2, 3, requires_grad=True)\n",
        "print(w)"
      ],
      "execution_count": null,
      "outputs": [
        {
          "output_type": "stream",
          "text": [
            "tensor([[0., 0., 0.],\n",
            "        [0., 0., 0.]], requires_grad=True)\n"
          ],
          "name": "stdout"
        }
      ]
    },
    {
      "cell_type": "code",
      "metadata": {
        "id": "ThAiAo_TGVkB"
      },
      "source": [
        "w = torch.zeros(2, 3, requires_grad=True)\n",
        "b = torch.zeros(2, requires_grad=True)\n",
        "\n",
        "def model(x):\n",
        "    return x @ w.t() + b\n",
        "\n",
        "def mse(t1, t2):\n",
        "    diff = t1 - t2\n",
        "    return torch.sum(diff * diff) / diff.numel()\n",
        "\n",
        "def fit(inputs,target,w,b):\n",
        "  for i in range(100):\n",
        "    preds = model(inputs)\n",
        "    loss = mse(preds, targets)\n",
        "    loss.backward()\n",
        "    with torch.no_grad():\n",
        "        w -= w.grad * 1e-5\n",
        "        b -= b.grad * 1e-5\n",
        "        w.grad.zero_()\n",
        "        b.grad.zero_()\n",
        "    print(str(i)+\"/100 \"+str(loss))\n",
        "  return preds"
      ],
      "execution_count": null,
      "outputs": []
    },
    {
      "cell_type": "code",
      "metadata": {
        "colab": {
          "base_uri": "https://localhost:8080/"
        },
        "id": "UMSMwyj4JGz6",
        "outputId": "abdb7b8b-8cad-4636-aa64-b50c6111e3e6"
      },
      "source": [
        "print(fit(inputs,targets,w,b))"
      ],
      "execution_count": null,
      "outputs": [
        {
          "output_type": "stream",
          "text": [
            "0/100 tensor(8327.0996, grad_fn=<DivBackward0>)\n",
            "1/100 tensor(5767.9951, grad_fn=<DivBackward0>)\n",
            "2/100 tensor(4041.5645, grad_fn=<DivBackward0>)\n",
            "3/100 tensor(2876.2847, grad_fn=<DivBackward0>)\n",
            "4/100 tensor(2089.1802, grad_fn=<DivBackward0>)\n",
            "5/100 tensor(1556.9453, grad_fn=<DivBackward0>)\n",
            "6/100 tensor(1196.4860, grad_fn=<DivBackward0>)\n",
            "7/100 tensor(951.8065, grad_fn=<DivBackward0>)\n",
            "8/100 tensor(785.1715, grad_fn=<DivBackward0>)\n",
            "9/100 tensor(671.1518, grad_fn=<DivBackward0>)\n",
            "10/100 tensor(592.6100, grad_fn=<DivBackward0>)\n",
            "11/100 tensor(537.9977, grad_fn=<DivBackward0>)\n",
            "12/100 tensor(499.5325, grad_fn=<DivBackward0>)\n",
            "13/100 tensor(471.9693, grad_fn=<DivBackward0>)\n",
            "14/100 tensor(451.7731, grad_fn=<DivBackward0>)\n",
            "15/100 tensor(436.5622, grad_fn=<DivBackward0>)\n",
            "16/100 tensor(424.7307, grad_fn=<DivBackward0>)\n",
            "17/100 tensor(415.1962, grad_fn=<DivBackward0>)\n",
            "18/100 tensor(407.2293, grad_fn=<DivBackward0>)\n",
            "19/100 tensor(400.3381, grad_fn=<DivBackward0>)\n",
            "20/100 tensor(394.1908, grad_fn=<DivBackward0>)\n",
            "21/100 tensor(388.5637, grad_fn=<DivBackward0>)\n",
            "22/100 tensor(383.3057, grad_fn=<DivBackward0>)\n",
            "23/100 tensor(378.3148, grad_fn=<DivBackward0>)\n",
            "24/100 tensor(373.5220, grad_fn=<DivBackward0>)\n",
            "25/100 tensor(368.8806, grad_fn=<DivBackward0>)\n",
            "26/100 tensor(364.3589, grad_fn=<DivBackward0>)\n",
            "27/100 tensor(359.9354, grad_fn=<DivBackward0>)\n",
            "28/100 tensor(355.5952, grad_fn=<DivBackward0>)\n",
            "29/100 tensor(351.3280, grad_fn=<DivBackward0>)\n",
            "30/100 tensor(347.1270, grad_fn=<DivBackward0>)\n",
            "31/100 tensor(342.9873, grad_fn=<DivBackward0>)\n",
            "32/100 tensor(338.9050, grad_fn=<DivBackward0>)\n",
            "33/100 tensor(334.8777, grad_fn=<DivBackward0>)\n",
            "34/100 tensor(330.9034, grad_fn=<DivBackward0>)\n",
            "35/100 tensor(326.9805, grad_fn=<DivBackward0>)\n",
            "36/100 tensor(323.1080, grad_fn=<DivBackward0>)\n",
            "37/100 tensor(319.2845, grad_fn=<DivBackward0>)\n",
            "38/100 tensor(315.5096, grad_fn=<DivBackward0>)\n",
            "39/100 tensor(311.7822, grad_fn=<DivBackward0>)\n",
            "40/100 tensor(308.1015, grad_fn=<DivBackward0>)\n",
            "41/100 tensor(304.4671, grad_fn=<DivBackward0>)\n",
            "42/100 tensor(300.8782, grad_fn=<DivBackward0>)\n",
            "43/100 tensor(297.3344, grad_fn=<DivBackward0>)\n",
            "44/100 tensor(293.8347, grad_fn=<DivBackward0>)\n",
            "45/100 tensor(290.3788, grad_fn=<DivBackward0>)\n",
            "46/100 tensor(286.9662, grad_fn=<DivBackward0>)\n",
            "47/100 tensor(283.5961, grad_fn=<DivBackward0>)\n",
            "48/100 tensor(280.2682, grad_fn=<DivBackward0>)\n",
            "49/100 tensor(276.9820, grad_fn=<DivBackward0>)\n",
            "50/100 tensor(273.7367, grad_fn=<DivBackward0>)\n",
            "51/100 tensor(270.5319, grad_fn=<DivBackward0>)\n",
            "52/100 tensor(267.3672, grad_fn=<DivBackward0>)\n",
            "53/100 tensor(264.2419, grad_fn=<DivBackward0>)\n",
            "54/100 tensor(261.1557, grad_fn=<DivBackward0>)\n",
            "55/100 tensor(258.1080, grad_fn=<DivBackward0>)\n",
            "56/100 tensor(255.0983, grad_fn=<DivBackward0>)\n",
            "57/100 tensor(252.1262, grad_fn=<DivBackward0>)\n",
            "58/100 tensor(249.1911, grad_fn=<DivBackward0>)\n",
            "59/100 tensor(246.2927, grad_fn=<DivBackward0>)\n",
            "60/100 tensor(243.4303, grad_fn=<DivBackward0>)\n",
            "61/100 tensor(240.6037, grad_fn=<DivBackward0>)\n",
            "62/100 tensor(237.8124, grad_fn=<DivBackward0>)\n",
            "63/100 tensor(235.0558, grad_fn=<DivBackward0>)\n",
            "64/100 tensor(232.3336, grad_fn=<DivBackward0>)\n",
            "65/100 tensor(229.6453, grad_fn=<DivBackward0>)\n",
            "66/100 tensor(226.9906, grad_fn=<DivBackward0>)\n",
            "67/100 tensor(224.3689, grad_fn=<DivBackward0>)\n",
            "68/100 tensor(221.7799, grad_fn=<DivBackward0>)\n",
            "69/100 tensor(219.2230, grad_fn=<DivBackward0>)\n",
            "70/100 tensor(216.6981, grad_fn=<DivBackward0>)\n",
            "71/100 tensor(214.2046, grad_fn=<DivBackward0>)\n",
            "72/100 tensor(211.7422, grad_fn=<DivBackward0>)\n",
            "73/100 tensor(209.3104, grad_fn=<DivBackward0>)\n",
            "74/100 tensor(206.9088, grad_fn=<DivBackward0>)\n",
            "75/100 tensor(204.5372, grad_fn=<DivBackward0>)\n",
            "76/100 tensor(202.1951, grad_fn=<DivBackward0>)\n",
            "77/100 tensor(199.8821, grad_fn=<DivBackward0>)\n",
            "78/100 tensor(197.5978, grad_fn=<DivBackward0>)\n",
            "79/100 tensor(195.3420, grad_fn=<DivBackward0>)\n",
            "80/100 tensor(193.1143, grad_fn=<DivBackward0>)\n",
            "81/100 tensor(190.9142, grad_fn=<DivBackward0>)\n",
            "82/100 tensor(188.7414, grad_fn=<DivBackward0>)\n",
            "83/100 tensor(186.5957, grad_fn=<DivBackward0>)\n",
            "84/100 tensor(184.4767, grad_fn=<DivBackward0>)\n",
            "85/100 tensor(182.3840, grad_fn=<DivBackward0>)\n",
            "86/100 tensor(180.3172, grad_fn=<DivBackward0>)\n",
            "87/100 tensor(178.2762, grad_fn=<DivBackward0>)\n",
            "88/100 tensor(176.2605, grad_fn=<DivBackward0>)\n",
            "89/100 tensor(174.2698, grad_fn=<DivBackward0>)\n",
            "90/100 tensor(172.3038, grad_fn=<DivBackward0>)\n",
            "91/100 tensor(170.3623, grad_fn=<DivBackward0>)\n",
            "92/100 tensor(168.4448, grad_fn=<DivBackward0>)\n",
            "93/100 tensor(166.5511, grad_fn=<DivBackward0>)\n",
            "94/100 tensor(164.6808, grad_fn=<DivBackward0>)\n",
            "95/100 tensor(162.8339, grad_fn=<DivBackward0>)\n",
            "96/100 tensor(161.0097, grad_fn=<DivBackward0>)\n",
            "97/100 tensor(159.2083, grad_fn=<DivBackward0>)\n",
            "98/100 tensor(157.4291, grad_fn=<DivBackward0>)\n",
            "99/100 tensor(155.6720, grad_fn=<DivBackward0>)\n",
            "tensor([[ 61.2829,  74.1909],\n",
            "        [ 82.6193,  99.5380],\n",
            "        [111.1353, 129.2928],\n",
            "        [ 44.7741,  59.1955],\n",
            "        [ 88.8120, 104.2253]], grad_fn=<AddBackward0>)\n"
          ],
          "name": "stdout"
        }
      ]
    },
    {
      "cell_type": "code",
      "metadata": {
        "colab": {
          "base_uri": "https://localhost:8080/"
        },
        "id": "5Qmt2-XFJvXv",
        "outputId": "4dd47bcd-86b5-4f89-da0c-f31799296ae4"
      },
      "source": [
        "print(targets)"
      ],
      "execution_count": null,
      "outputs": [
        {
          "output_type": "stream",
          "text": [
            "tensor([[ 56.,  70.],\n",
            "        [ 81., 101.],\n",
            "        [119., 133.],\n",
            "        [ 22.,  37.],\n",
            "        [103., 119.]])\n"
          ],
          "name": "stdout"
        }
      ]
    },
    {
      "cell_type": "markdown",
      "metadata": {
        "id": "QK9hrkYnSG-g"
      },
      "source": [
        "Liner regression from builtins"
      ]
    },
    {
      "cell_type": "code",
      "metadata": {
        "id": "UkYlJC5eKqMF"
      },
      "source": [
        "import torch.nn as nn\n",
        "from torch.utils.data import TensorDataset,DataLoader"
      ],
      "execution_count": null,
      "outputs": []
    },
    {
      "cell_type": "code",
      "metadata": {
        "colab": {
          "base_uri": "https://localhost:8080/"
        },
        "id": "k5XnMUFcSQQA",
        "outputId": "d60b501f-14d1-4bff-d303-44c5469b6e22"
      },
      "source": [
        "#dataset\n",
        "train_dataset = TensorDataset(inputs, targets)\n",
        "train_dataset[0:3]"
      ],
      "execution_count": null,
      "outputs": [
        {
          "output_type": "execute_result",
          "data": {
            "text/plain": [
              "(tensor([[ 73.,  67.,  43.],\n",
              "         [ 91.,  88.,  64.],\n",
              "         [ 87., 134.,  58.]]), tensor([[ 56.,  70.],\n",
              "         [ 81., 101.],\n",
              "         [119., 133.]]))"
            ]
          },
          "metadata": {
            "tags": []
          },
          "execution_count": 11
        }
      ]
    },
    {
      "cell_type": "code",
      "metadata": {
        "id": "9X0-49DKSdEQ"
      },
      "source": [
        "#dataloader\n",
        "batch_size = 2\n",
        "train_dataloader = DataLoader(train_dataset, batch_size, shuffle=True)"
      ],
      "execution_count": null,
      "outputs": []
    },
    {
      "cell_type": "code",
      "metadata": {
        "colab": {
          "base_uri": "https://localhost:8080/"
        },
        "id": "MZeA8bSRSvPG",
        "outputId": "6cc2871d-606d-48a3-b5b0-53c28f7c96ed"
      },
      "source": [
        "batch = 1\n",
        "for x,y in train_dataloader:\n",
        "  print(\"batch\",batch)\n",
        "  print(x)\n",
        "  print(y)\n",
        "  batch += 1"
      ],
      "execution_count": null,
      "outputs": [
        {
          "output_type": "stream",
          "text": [
            "batch 1\n",
            "tensor([[ 73.,  67.,  43.],\n",
            "        [102.,  43.,  37.]])\n",
            "tensor([[56., 70.],\n",
            "        [22., 37.]])\n",
            "batch 2\n",
            "tensor([[ 91.,  88.,  64.],\n",
            "        [ 87., 134.,  58.]])\n",
            "tensor([[ 81., 101.],\n",
            "        [119., 133.]])\n",
            "batch 3\n",
            "tensor([[69., 96., 70.]])\n",
            "tensor([[103., 119.]])\n"
          ],
          "name": "stdout"
        }
      ]
    },
    {
      "cell_type": "code",
      "metadata": {
        "colab": {
          "base_uri": "https://localhost:8080/"
        },
        "id": "tCHEtGkaS0Te",
        "outputId": "55842611-95ef-47da-d73b-2987553e4d43"
      },
      "source": [
        "# Define model\n",
        "model = nn.Linear(3, 2) # 3 input parameters and 2 outputs\n",
        "\n",
        "#check the initialised weights and biases\n",
        "print(model.weight)\n",
        "print(model.bias)"
      ],
      "execution_count": null,
      "outputs": [
        {
          "output_type": "stream",
          "text": [
            "Parameter containing:\n",
            "tensor([[-0.4143,  0.2412, -0.3284],\n",
            "        [ 0.4557, -0.2045,  0.3218]], requires_grad=True)\n",
            "Parameter containing:\n",
            "tensor([0.2324, 0.4036], requires_grad=True)\n"
          ],
          "name": "stdout"
        }
      ]
    },
    {
      "cell_type": "code",
      "metadata": {
        "colab": {
          "base_uri": "https://localhost:8080/"
        },
        "id": "R5d9pbLMUk2O",
        "outputId": "e43b527f-b13e-47a9-e6fe-d80a80056c15"
      },
      "source": [
        "list(model.parameters())"
      ],
      "execution_count": null,
      "outputs": [
        {
          "output_type": "execute_result",
          "data": {
            "text/plain": [
              "[Parameter containing:\n",
              " tensor([[-0.4143,  0.2412, -0.3284],\n",
              "         [ 0.4557, -0.2045,  0.3218]], requires_grad=True),\n",
              " Parameter containing:\n",
              " tensor([0.2324, 0.4036], requires_grad=True)]"
            ]
          },
          "metadata": {
            "tags": []
          },
          "execution_count": 21
        }
      ]
    },
    {
      "cell_type": "code",
      "metadata": {
        "id": "UTPy-epGY7xz"
      },
      "source": [
        "import torch.nn.functional as F\n",
        "loss_fn = F.mse_loss\n",
        "\n",
        "#Define optimizer\n",
        "optimizer = torch.optim.SGD(model.parameters(), lr=1e-5) #SGD is short for \"stochastic gradient descent\". The term stochastic indicates that samples are selected in random batches instead of as a single group.\n",
        "\n",
        "# Utility function to train the model\n",
        "def fit(num_epochs, model, loss_fn, optimizer, train_dataloader):\n",
        "    # Repeat for given number of epochs\n",
        "    for epoch in range(num_epochs): \n",
        "        # Train with batches of data\n",
        "        for xb,yb in train_dataloader:   \n",
        "            # 1. Generate predictions\n",
        "            pred = model(xb)\n",
        "            # 2. Calculate loss\n",
        "            loss = loss_fn(pred, yb)\n",
        "            # 3. Compute gradients\n",
        "            loss.backward()\n",
        "            # 4. Update parameters using gradients\n",
        "            optimizer.step()\n",
        "            # 5. Reset the gradients to zero\n",
        "            optimizer.zero_grad()\n",
        "        # Print the progress\n",
        "        if (epoch+1) % 10 == 0:\n",
        "            print('Epoch [{}/{}], Loss: {:.4f}'.format(epoch+1, num_epochs, loss.item()))"
      ],
      "execution_count": null,
      "outputs": []
    },
    {
      "cell_type": "code",
      "metadata": {
        "colab": {
          "base_uri": "https://localhost:8080/"
        },
        "id": "l1FEwTs-eTr2",
        "outputId": "20f1f58f-e87a-40b4-c7a0-622574cfeb69"
      },
      "source": [
        "fit(100, model, loss_fn, optimizer, train_dataloader)"
      ],
      "execution_count": null,
      "outputs": [
        {
          "output_type": "stream",
          "text": [
            "Epoch [10/100], Loss: 294.9911\n",
            "Epoch [20/100], Loss: 2.8295\n",
            "Epoch [30/100], Loss: 243.4555\n",
            "Epoch [40/100], Loss: 107.6058\n",
            "Epoch [50/100], Loss: 26.5874\n",
            "Epoch [60/100], Loss: 16.7020\n",
            "Epoch [70/100], Loss: 37.9860\n",
            "Epoch [80/100], Loss: 2.6499\n",
            "Epoch [90/100], Loss: 95.7321\n",
            "Epoch [100/100], Loss: 3.7776\n"
          ],
          "name": "stdout"
        }
      ]
    },
    {
      "cell_type": "code",
      "metadata": {
        "id": "J8c4U0xYebpG"
      },
      "source": [
        "pred = model(inputs)"
      ],
      "execution_count": null,
      "outputs": []
    },
    {
      "cell_type": "code",
      "metadata": {
        "colab": {
          "base_uri": "https://localhost:8080/"
        },
        "id": "Vr1XcbfqehOs",
        "outputId": "b9ee39b0-4bfc-46e0-cc6e-db4ab87f4d6f"
      },
      "source": [
        "pred"
      ],
      "execution_count": null,
      "outputs": [
        {
          "output_type": "execute_result",
          "data": {
            "text/plain": [
              "tensor([[ 57.8207,  71.6062],\n",
              "        [ 78.5177,  99.3712],\n",
              "        [123.7647, 130.8748],\n",
              "        [ 26.0438,  46.2902],\n",
              "        [ 92.8173, 111.7586]], grad_fn=<AddmmBackward>)"
            ]
          },
          "metadata": {
            "tags": []
          },
          "execution_count": 25
        }
      ]
    },
    {
      "cell_type": "code",
      "metadata": {
        "colab": {
          "base_uri": "https://localhost:8080/"
        },
        "id": "_WpKPfN3ei8I",
        "outputId": "457cf22c-440b-4f86-b8ce-ccf90bb64f40"
      },
      "source": [
        "targets"
      ],
      "execution_count": null,
      "outputs": [
        {
          "output_type": "execute_result",
          "data": {
            "text/plain": [
              "tensor([[ 56.,  70.],\n",
              "        [ 81., 101.],\n",
              "        [119., 133.],\n",
              "        [ 22.,  37.],\n",
              "        [103., 119.]])"
            ]
          },
          "metadata": {
            "tags": []
          },
          "execution_count": 27
        }
      ]
    },
    {
      "cell_type": "code",
      "metadata": {
        "id": "5MPbDPgCel5l"
      },
      "source": [
        ""
      ],
      "execution_count": null,
      "outputs": []
    }
  ]
}